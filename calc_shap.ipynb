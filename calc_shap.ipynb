{
 "cells": [
  {
   "cell_type": "markdown",
   "metadata": {},
   "source": [
    "# Load data and results"
   ]
  },
  {
   "cell_type": "code",
   "execution_count": 1,
   "metadata": {},
   "outputs": [],
   "source": [
    "import pickle\n",
    "import pandas as pd\n",
    "import numpy as np\n",
    "import seaborn as sns\n",
    "import matplotlib.pyplot as plt\n",
    "\n",
    "def load_results(filename):\n",
    "    with open(filename, 'rb') as file:\n",
    "        loaded_results = pickle.load(file)\n",
    "    return loaded_results\n",
    "\n",
    "def save_results(results, filename):\n",
    "    with open(filename, 'wb') as file:\n",
    "        pickle.dump(results, file)"
   ]
  },
  {
   "cell_type": "code",
   "execution_count": 2,
   "metadata": {},
   "outputs": [],
   "source": [
    "results = load_results('result/results_test.pickle')\n",
    "results_grid = load_results('result/results_grid.pickle')\n",
    "best_models = load_results('result/best_models.pickle')\n",
    "data_models = load_results('result/data_models.pickle')"
   ]
  },
  {
   "cell_type": "markdown",
   "metadata": {},
   "source": [
    "### SHAP values"
   ]
  },
  {
   "cell_type": "code",
   "execution_count": 4,
   "metadata": {},
   "outputs": [
    {
     "name": "stdout",
     "output_type": "stream",
     "text": [
      "Computing SHAP values for 2...\n",
      "Computing SHAP values for Logistic...\n",
      "Computing SHAP values for Random Forest...\n",
      "Computing SHAP values for GBM...\n",
      "Computing SHAP values for XGBoost...\n",
      "Computing SHAP values for SVM...\n"
     ]
    },
    {
     "name": "stderr",
     "output_type": "stream",
     "text": [
      "PermutationExplainer explainer: 1136it [1:36:19,  5.10s/it]                          \n"
     ]
    },
    {
     "name": "stdout",
     "output_type": "stream",
     "text": [
      "Computing SHAP values for KNN...\n"
     ]
    },
    {
     "name": "stderr",
     "output_type": "stream",
     "text": [
      "PermutationExplainer explainer: 1136it [48:30,  2.57s/it]                          \n"
     ]
    }
   ],
   "source": [
    "import shap\n",
    "from sklearn.preprocessing import StandardScaler\n",
    "\n",
    "models = ['Logistic', 'Random Forest', 'GBM', 'XGBoost', 'SVM', 'KNN']\n",
    "\n",
    "results_shap = {}\n",
    "shap_values = []\n",
    "\n",
    "i_models = [1, 2]\n",
    "\n",
    "for i_model in i_models:\n",
    "\n",
    "    if i_model != 2:\n",
    "        continue\n",
    "\n",
    "    print(f\"Computing SHAP values for {i_model}...\")\n",
    "\n",
    "    X_train, X_test, y_train, y_test = data_models[f\"Model_{i_model}\"]\n",
    "\n",
    "    scaler = StandardScaler()\n",
    "    X_train_scaled = scaler.fit_transform(X_train)\n",
    "    X_test_scaled = scaler.transform(X_test)\n",
    "\n",
    "    df_X_train_scaled = pd.DataFrame(X_train_scaled, columns=X_train.columns)\n",
    "    df_X_test_scaled = pd.DataFrame(X_test_scaled, columns=X_test.columns)\n",
    "\n",
    "    shap_train = df_X_train_scaled.copy()\n",
    "    shap_test = df_X_test_scaled.copy()\n",
    "\n",
    "    for model in models:\n",
    "\n",
    "        print(f\"Computing SHAP values for {model}...\")\n",
    "\n",
    "        best_model = best_models[f\"Model_{i_model}_{model}\"]\n",
    "        \n",
    "        # if model != 'Logistic': # this is to test a single model - OK\n",
    "        # if model != 'Random Forest': # this is to test a single model\n",
    "        # if model != 'GBM': # this is to test a single model - OK\n",
    "        # if model != 'XGBoost': # this is to test a single model\n",
    "        # if model != 'SVM': # this is to test a single model\n",
    "        # if model != 'KNN': # this is to test a single model\n",
    "            # continue\n",
    "\n",
    "        if model == 'Logistic':\n",
    "            explainer = shap.LinearExplainer(best_model.named_steps['classifier'], shap_train)\n",
    "            shap_values = explainer(shap_test)\n",
    "        \n",
    "        elif model == 'Random Forest':\n",
    "            explainer = shap.TreeExplainer(best_model.named_steps['rf'])\n",
    "            shap_values = explainer(shap_test)\n",
    "            shap_values = shap_values[:,:,-1]\n",
    "\n",
    "        elif model == 'GBM':\n",
    "            explainer = shap.TreeExplainer(best_model.named_steps['gb'])\n",
    "            shap_values = explainer(shap_test)\n",
    "        \n",
    "        elif model == 'XGBoost':\n",
    "            explainer = shap.TreeExplainer(best_model.named_steps['xgb'])\n",
    "            shap_values = explainer(shap_test)\n",
    "        \n",
    "        elif model == 'SVM':\n",
    "            explainer = shap.explainers.Permutation(best_model.predict_proba, shap_train.values)\n",
    "            shap_values = explainer(shap_test)\n",
    "            shap_values = shap_values[:,:,-1]\n",
    "\n",
    "        elif model == 'KNN':      \n",
    "            \n",
    "            explainer = shap.explainers.Permutation(best_model.predict_proba, shap_train.values)\n",
    "            shap_values = explainer(shap_test)\n",
    "            shap_values = shap_values[:,:,-1]\n",
    "\n",
    "        results_shap[model] = {\n",
    "            'shap_values': shap_values,\n",
    "            'shap_data': shap_test,\n",
    "        }\n",
    "\n",
    "    save_results(results_shap, f\"result/results_shap-{i_model}.pickle\")    "
   ]
  },
  {
   "cell_type": "code",
   "execution_count": null,
   "metadata": {},
   "outputs": [],
   "source": []
  }
 ],
 "metadata": {
  "kernelspec": {
   "display_name": "py3112",
   "language": "python",
   "name": "python3"
  },
  "language_info": {
   "codemirror_mode": {
    "name": "ipython",
    "version": 3
   },
   "file_extension": ".py",
   "mimetype": "text/x-python",
   "name": "python",
   "nbconvert_exporter": "python",
   "pygments_lexer": "ipython3",
   "version": "3.11.2"
  }
 },
 "nbformat": 4,
 "nbformat_minor": 2
}

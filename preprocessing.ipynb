{
 "cells": [
  {
   "cell_type": "code",
   "execution_count": 1,
   "metadata": {},
   "outputs": [],
   "source": [
    "import pandas as pd\n",
    "import numpy as np"
   ]
  },
  {
   "cell_type": "markdown",
   "metadata": {},
   "source": [
    "## Data preprocessing"
   ]
  },
  {
   "cell_type": "code",
   "execution_count": null,
   "metadata": {},
   "outputs": [
    {
     "name": "stdout",
     "output_type": "stream",
     "text": [
      "Columns containing masked values: []\n"
     ]
    }
   ],
   "source": [
    "def preprocessing():\n",
    "\n",
    "    all_read = pd.read_spss('data/all.sav')\n",
    "    all_read = all_read.replace('NA', np.nan)\n",
    "    all_read = all_read.replace(r'^\\s*$', pd.NA, regex=True)\n",
    "\n",
    "    all_data = all_read.rename(columns={\n",
    "        'ques_50_01': 'height',\n",
    "        'ques_50_02': 'weight',\n",
    "        'ques_50_03': 'waist',\n",
    "        'ques_51_01': 'sbp',\n",
    "        'ques_51_02': 'dbp',\n",
    "        'ques_51_02_01': 'htn_med',\n",
    "        'ques_08': 'fridge_case',\n",
    "        'ques_08_01': 'freezer_case',\n",
    "        'ques_08_04': 'fryingpan',\n",
    "        'ques_08_05': 'coatingpot',\n",
    "        'ques_08_06': 'coatingcase',\n",
    "        'ques_08_07': 'ricepot',\n",
    "        'ques_28_01': 'water',\n",
    "        'ques_17': 'smoking',\n",
    "        'ques_28_02': 'water_type',\n",
    "        'ques_29_01': 'cupnoodle',\n",
    "        'ques_29_02': 'fast_food', # added\n",
    "        'ques_29_03': 'microwave_food',\n",
    "        'ques_29_04': 'popcorn',\n",
    "        'ques_29_05': 'can_food',\n",
    "        'ques_31_01': 'large_fish',\n",
    "        'ques_31_02': 'fish',\n",
    "        'ques_31_03': 'crustacean',\n",
    "        'ques_31_05': 'shellfish',\n",
    "        'ques_35_01': 'wrapped_food', # added\n",
    "        'ques_35_02': 'paper_cup', # added\n",
    "        'ques_35_03': 'pet_drink', # added\n",
    "        'gender': 'sex',\n",
    "    })\n",
    "\n",
    "    all_data['PFAS'] = all_data['PFOA'] + all_data['PFOS'] + all_data['PFHxS'] + all_data['PFNA'] + all_data['PFDeA']\n",
    "    all_data['PFAS_class'] = np.where(all_data['PFAS'] < 20, \"none\", \"expose\")\n",
    "    all_data['age_class'] = np.where(all_data['age'] < 20, \"mh\", \"adult\")\n",
    "    all_data['BMI'] = all_data['weight'] / (all_data['height'] / 100)**2\n",
    "    all_data['sex'] = np.where(all_data['sex'] == 1, \"Male\", \"Female\")\n",
    "    all_data['htn_med'] = np.where(all_data['htn_med'] == 1, \"no\", \"yes\")\n",
    "\n",
    "    all_data['height'] = all_data['height'].fillna(all_data['height'].mean())\n",
    "    all_data['weight'] = all_data['weight'].fillna(all_data['weight'].mean())\n",
    "\n",
    "    # Select columns\n",
    "    selected_columns = [\n",
    "        'sex', 'age', 'height', 'weight', 'waist', \n",
    "        'sbp', 'dbp', \n",
    "        'htn_med',\n",
    "        'BPb', 'BHg', 'Uhg', 'MEHHP', 'MEOHP', 'MCPP', 'MEP', 'BPA', 'MP', 'BP_3', 'COT', 'tt_MA', 'PBA',\n",
    "        'U_crea', 'S_crea', \n",
    "        'WBC', 'EOS', 'RBC', 'PLT', 'HB', 'HCT', \n",
    "        'HbA1c', 'ALT', 'AST', 'GGT', 'CHOL', 'HDL', 'TG', 'T_lipid', 'S_crea', 'U_crea', 'SG', 'T_IgE',\n",
    "        'fryingpan', 'coatingpot', 'coatingcase', 'ricepot', 'fridge_case', 'freezer_case', \n",
    "        'water',\n",
    "        'PFAS_class',\n",
    "        'age_class',\n",
    "        'smoking', 'cupnoodle', 'microwave_food', 'popcorn', 'can_food', 'large_fish', 'fish', 'crustacean', 'shellfish',\n",
    "        'OHP', 'NAP', 'OHFlu', 'OHPhe', 'MnBP', 'MECPP', 'MBzP', 'BPF', 'BPS', 'TCS', 'EP', 'PP', 'BP', 'BMA', # added\n",
    "        'fast_food', 'wrapped_food', 'paper_cup', 'pet_drink', # added\n",
    "        'BMI', # added\n",
    "    ]\n",
    "    all_data = all_data[selected_columns]\n",
    "\n",
    "    # Convert categorical variables\n",
    "    water_map = {1: \"tap\", 2: \"tap\", 3: \"filter\", 4: \"filter\", 5: \"bottled\", \n",
    "                 6: \"spring\", 7: \"well\", 8: \"well\", 9: \"others\"}\n",
    "    all_data['water'] = all_data['water'].map(water_map).astype('category')\n",
    "        \n",
    "    # fridge_case & freezer_case columns conversion\n",
    "    for column in ['fridge_case', 'freezer_case']:\n",
    "        data_map = {\n",
    "            1: 'glass', 2: 'metal', 3: 'plastic',\n",
    "            4: 'ziploc', 5: 'others', 6: 'others'\n",
    "        }\n",
    "        all_data[column] = all_data[column].map(data_map).astype('category')\n",
    "    \n",
    "    all_data['PFAS_class'] = pd.Categorical(all_data['PFAS_class'], categories=[\"none\", \"expose\"])\n",
    "    all_data['sex'] = pd.Categorical(all_data['sex'])\n",
    "    all_data['htn_med'] = pd.Categorical(all_data['htn_med'], categories=['no', 'yes'], ordered=False)\n",
    "    all_data['age_class'] = pd.Categorical(all_data['age_class'], categories=['mh', 'adult'], ordered=False)\n",
    "\n",
    "    all_data = all_data.replace(8888, np.nan)\n",
    "    all_data = all_data.replace(999, np.nan)\n",
    "    \n",
    "    target_values = [7777, 8888, 9999, 999]\n",
    "    columns_with_any_value = all_data.columns[all_data.isin(target_values).any()].tolist()\n",
    "    print(f\"Columns containing masked values: {columns_with_any_value}\")\n",
    "    \n",
    "    return all_data\n",
    "\n",
    "all_data = preprocessing()"
   ]
  },
  {
   "cell_type": "code",
   "execution_count": 3,
   "metadata": {},
   "outputs": [],
   "source": [
    "import pickle\n",
    "\n",
    "all_data.to_pickle('data/all_data.pkl')\n",
    "all_data.to_csv('data/all_data.csv')"
   ]
  },
  {
   "cell_type": "code",
   "execution_count": null,
   "metadata": {},
   "outputs": [],
   "source": []
  }
 ],
 "metadata": {
  "kernelspec": {
   "display_name": "py3112",
   "language": "python",
   "name": "python3"
  },
  "language_info": {
   "codemirror_mode": {
    "name": "ipython",
    "version": 3
   },
   "file_extension": ".py",
   "mimetype": "text/x-python",
   "name": "python",
   "nbconvert_exporter": "python",
   "pygments_lexer": "ipython3",
   "version": "3.11.2"
  }
 },
 "nbformat": 4,
 "nbformat_minor": 2
}
